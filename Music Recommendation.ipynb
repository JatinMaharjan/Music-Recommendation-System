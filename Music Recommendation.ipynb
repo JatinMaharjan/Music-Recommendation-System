{
 "cells": [
  {
   "cell_type": "code",
   "execution_count": 19,
   "id": "ec4220f1",
   "metadata": {},
   "outputs": [],
   "source": [
    "# First, we'll import all the required libraries.\n",
    "import numpy as np\n",
    "import pandas as pd"
   ]
  },
  {
   "cell_type": "code",
   "execution_count": 20,
   "id": "b316e4fd",
   "metadata": {},
   "outputs": [],
   "source": [
    "from typing import List, Dict"
   ]
  },
  {
   "cell_type": "code",
   "execution_count": 21,
   "id": "ab887222",
   "metadata": {},
   "outputs": [],
   "source": [
    "# In this, we are going to use TfidfVectorizer from the Scikit-learn package again.\n",
    "from sklearn.feature_extraction.text import TfidfVectorizer\n",
    "from sklearn.metrics.pairwise import cosine_similarity"
   ]
  },
  {
   "cell_type": "code",
   "execution_count": 22,
   "id": "f8a8b557",
   "metadata": {},
   "outputs": [],
   "source": [
    "#This dataset contains name, artist, and lyrics for 57650 songs in English.\n",
    "songs = pd.read_csv('Songdataset.csv')"
   ]
  },
  {
   "cell_type": "code",
   "execution_count": 23,
   "id": "e79714dc",
   "metadata": {},
   "outputs": [
    {
     "data": {
      "text/html": [
       "<div>\n",
       "<style scoped>\n",
       "    .dataframe tbody tr th:only-of-type {\n",
       "        vertical-align: middle;\n",
       "    }\n",
       "\n",
       "    .dataframe tbody tr th {\n",
       "        vertical-align: top;\n",
       "    }\n",
       "\n",
       "    .dataframe thead th {\n",
       "        text-align: right;\n",
       "    }\n",
       "</style>\n",
       "<table border=\"1\" class=\"dataframe\">\n",
       "  <thead>\n",
       "    <tr style=\"text-align: right;\">\n",
       "      <th></th>\n",
       "      <th>artist</th>\n",
       "      <th>song</th>\n",
       "      <th>link</th>\n",
       "      <th>text</th>\n",
       "    </tr>\n",
       "  </thead>\n",
       "  <tbody>\n",
       "    <tr>\n",
       "      <th>0</th>\n",
       "      <td>ABBA</td>\n",
       "      <td>Ahe's My Kind Of Girl</td>\n",
       "      <td>/a/abba/ahes+my+kind+of+girl_20598417.html</td>\n",
       "      <td>Look at her face, it's a wonderful face  \\nAnd...</td>\n",
       "    </tr>\n",
       "    <tr>\n",
       "      <th>1</th>\n",
       "      <td>ABBA</td>\n",
       "      <td>Andante, Andante</td>\n",
       "      <td>/a/abba/andante+andante_20002708.html</td>\n",
       "      <td>Take it easy with me, please  \\nTouch me gentl...</td>\n",
       "    </tr>\n",
       "    <tr>\n",
       "      <th>2</th>\n",
       "      <td>ABBA</td>\n",
       "      <td>As Good As New</td>\n",
       "      <td>/a/abba/as+good+as+new_20003033.html</td>\n",
       "      <td>I'll never know why I had to go  \\nWhy I had t...</td>\n",
       "    </tr>\n",
       "    <tr>\n",
       "      <th>3</th>\n",
       "      <td>ABBA</td>\n",
       "      <td>Bang</td>\n",
       "      <td>/a/abba/bang_20598415.html</td>\n",
       "      <td>Making somebody happy is a question of give an...</td>\n",
       "    </tr>\n",
       "    <tr>\n",
       "      <th>4</th>\n",
       "      <td>ABBA</td>\n",
       "      <td>Bang-A-Boomerang</td>\n",
       "      <td>/a/abba/bang+a+boomerang_20002668.html</td>\n",
       "      <td>Making somebody happy is a question of give an...</td>\n",
       "    </tr>\n",
       "  </tbody>\n",
       "</table>\n",
       "</div>"
      ],
      "text/plain": [
       "  artist                   song                                        link  \\\n",
       "0   ABBA  Ahe's My Kind Of Girl  /a/abba/ahes+my+kind+of+girl_20598417.html   \n",
       "1   ABBA       Andante, Andante       /a/abba/andante+andante_20002708.html   \n",
       "2   ABBA         As Good As New        /a/abba/as+good+as+new_20003033.html   \n",
       "3   ABBA                   Bang                  /a/abba/bang_20598415.html   \n",
       "4   ABBA       Bang-A-Boomerang      /a/abba/bang+a+boomerang_20002668.html   \n",
       "\n",
       "                                                text  \n",
       "0  Look at her face, it's a wonderful face  \\nAnd...  \n",
       "1  Take it easy with me, please  \\nTouch me gentl...  \n",
       "2  I'll never know why I had to go  \\nWhy I had t...  \n",
       "3  Making somebody happy is a question of give an...  \n",
       "4  Making somebody happy is a question of give an...  "
      ]
     },
     "execution_count": 23,
     "metadata": {},
     "output_type": "execute_result"
    }
   ],
   "source": [
    "songs.head()"
   ]
  },
  {
   "cell_type": "code",
   "execution_count": 24,
   "id": "efd9ded1",
   "metadata": {},
   "outputs": [],
   "source": [
    "# Because of the dataset being so big, we are going to resample only 5000 random songs.\n",
    "songs = songs.sample(n=5000).drop('link', axis=1).reset_index(drop=True)"
   ]
  },
  {
   "cell_type": "code",
   "execution_count": 25,
   "id": "baf98c5c",
   "metadata": {},
   "outputs": [
    {
     "name": "stderr",
     "output_type": "stream",
     "text": [
      "<ipython-input-25-560fd330c60b>:2: FutureWarning: The default value of regex will change from True to False in a future version.\n",
      "  songs['text'] = songs['text'].str.replace(r'\\n','')\n"
     ]
    }
   ],
   "source": [
    "# We can notice also the presence of \\n in the text, so we are going to remove it.\n",
    "songs['text'] = songs['text'].str.replace(r'\\n','')"
   ]
  },
  {
   "cell_type": "code",
   "execution_count": 26,
   "id": "f2300d49",
   "metadata": {},
   "outputs": [],
   "source": [
    "# we have use TF-IDF vectorizer that calculates the TF-IDF score for each song lyric, word-by-word.\n",
    "tfidf = TfidfVectorizer(analyzer='word', stop_words='english')"
   ]
  },
  {
   "cell_type": "code",
   "execution_count": 27,
   "id": "d54366a6",
   "metadata": {},
   "outputs": [],
   "source": [
    "lyrics_matrix = tfidf.fit_transform(songs['text'])"
   ]
  },
  {
   "cell_type": "code",
   "execution_count": 28,
   "id": "9bd1f28f",
   "metadata": {},
   "outputs": [],
   "source": [
    "# We now need to calculate the similarity of one lyric to another. We are going to use cosine similarity.\n",
    "# We want to calculate the cosine similarity of each item with every other item in the dataset. So we just pass the lyrics_matrix as argument.\n",
    "cosine_similarities = cosine_similarity(lyrics_matrix)"
   ]
  },
  {
   "cell_type": "code",
   "execution_count": 29,
   "id": "dc6d54bf",
   "metadata": {},
   "outputs": [],
   "source": [
    "# Once we get the similarities, we'll store in a dictionary the names of the 50 most similar songs for each song in our dataset.\n",
    "similarities = {}"
   ]
  },
  {
   "cell_type": "code",
   "execution_count": 30,
   "id": "a17a4c8c",
   "metadata": {},
   "outputs": [],
   "source": [
    "for i in range(len(cosine_similarities)):\n",
    "    # we'll sort each element in cosine_similarities and get the indexes of the songs.\n",
    "    similar_indices = cosine_similarities[i].argsort()[:-50:-1]\n",
    "    # we'll store in similarities each name of the 50 most similar songs.\n",
    "    similarities[songs['song'].iloc[i]] = [(cosine_similarities[i][x], songs['song'][x], songs['artist'][x]) for x in similar_indices][1:]"
   ]
  },
  {
   "cell_type": "code",
   "execution_count": 31,
   "id": "f416d993",
   "metadata": {},
   "outputs": [],
   "source": [
    "# we'll define our Content based recommender class.\n",
    "class ContentBasedRecommender:\n",
    "    def __init__(self, matrix):\n",
    "        self.matrix_similar = matrix\n",
    "\n",
    "    def _print_message(self, song, recom_song):\n",
    "        rec_items = len(recom_song)\n",
    "        \n",
    "        print(f'The {rec_items} Recommended Songs for \"{song}\" are:')\n",
    "        for i in range(rec_items):\n",
    "            print(f\"Song {i+1}:\")\n",
    "            print(f\"-> {recom_song[i][1]} by {recom_song[i][2]} with {round(recom_song[i][0], 3)} Similarity score.\") \n",
    "            print(\"--------------------------------------------------------------------------\")\n",
    "        \n",
    "    def recommend(self, recommendation):\n",
    "        # Get song to find recommendations for\n",
    "        song = recommendation['song']\n",
    "        # Get number of songs to recommend\n",
    "        number_songs = recommendation['number_songs']\n",
    "        # Get the number of songs most similars from matrix similarities\n",
    "        recom_song = self.matrix_similar[song][:number_songs]\n",
    "        # print each item\n",
    "        self._print_message(song=song, recom_song=recom_song)"
   ]
  },
  {
   "cell_type": "code",
   "execution_count": 32,
   "id": "de192d4e",
   "metadata": {},
   "outputs": [],
   "source": [
    "# instantiate class\n",
    "recommedations = ContentBasedRecommender(similarities)"
   ]
  },
  {
   "cell_type": "code",
   "execution_count": 33,
   "id": "5db074bd",
   "metadata": {},
   "outputs": [],
   "source": [
    "# we are ready to pick a song from the dataset and make a recommendation.\n",
    "recommendation = {\n",
    "    \"song\": songs['song'].iloc[10],\n",
    "    \"number_songs\": 4 \n",
    "}"
   ]
  },
  {
   "cell_type": "code",
   "execution_count": 34,
   "id": "ece57b0e",
   "metadata": {},
   "outputs": [
    {
     "name": "stdout",
     "output_type": "stream",
     "text": [
      "The 4 Recommended Songs for \"Gaston\" are:\n",
      "Song 1:\n",
      "-> Everybody Have Fun Tonight by Wang Chung with 0.063 Similarity score.\n",
      "--------------------------------------------------------------------------\n",
      "Song 2:\n",
      "-> He's My Guy by Ella Fitzgerald with 0.06 Similarity score.\n",
      "--------------------------------------------------------------------------\n",
      "Song 3:\n",
      "-> I Like It Like That by Van Morrison with 0.057 Similarity score.\n",
      "--------------------------------------------------------------------------\n",
      "Song 4:\n",
      "-> I Guess I Like It Like That by Kylie Minogue with 0.055 Similarity score.\n",
      "--------------------------------------------------------------------------\n"
     ]
    }
   ],
   "source": [
    "recommedations.recommend(recommendation)"
   ]
  },
  {
   "cell_type": "code",
   "execution_count": 35,
   "id": "29957b8c",
   "metadata": {},
   "outputs": [],
   "source": [
    "# now we again take another random songs and recommend again.\n",
    "recommendation2 = {\n",
    "    \"song\" : songs['song'].iloc[120],\n",
    "    \"number_songs\": 4\n",
    "}"
   ]
  },
  {
   "cell_type": "code",
   "execution_count": 36,
   "id": "b1a5a9aa",
   "metadata": {},
   "outputs": [
    {
     "name": "stdout",
     "output_type": "stream",
     "text": [
      "The 4 Recommended Songs for \"Animal\" are:\n",
      "Song 1:\n",
      "-> Animal by Pearl Jam with 0.594 Similarity score.\n",
      "--------------------------------------------------------------------------\n",
      "Song 2:\n",
      "-> LOVE AND VIOLENCE by Omd with 0.2 Similarity score.\n",
      "--------------------------------------------------------------------------\n",
      "Song 3:\n",
      "-> Sad If I Lost It by Guided By Voices with 0.147 Similarity score.\n",
      "--------------------------------------------------------------------------\n",
      "Song 4:\n",
      "-> Natural High by Lenny Kravitz with 0.147 Similarity score.\n",
      "--------------------------------------------------------------------------\n"
     ]
    }
   ],
   "source": [
    "recommedations.recommend(recommendation2)"
   ]
  },
  {
   "cell_type": "code",
   "execution_count": null,
   "id": "5af1a16d",
   "metadata": {},
   "outputs": [],
   "source": []
  }
 ],
 "metadata": {
  "kernelspec": {
   "display_name": "Python 3",
   "language": "python",
   "name": "python3"
  },
  "language_info": {
   "codemirror_mode": {
    "name": "ipython",
    "version": 3
   },
   "file_extension": ".py",
   "mimetype": "text/x-python",
   "name": "python",
   "nbconvert_exporter": "python",
   "pygments_lexer": "ipython3",
   "version": "3.8.8"
  }
 },
 "nbformat": 4,
 "nbformat_minor": 5
}
